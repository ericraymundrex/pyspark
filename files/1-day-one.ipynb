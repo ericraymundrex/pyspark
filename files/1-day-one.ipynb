{
 "cells": [
  {
   "cell_type": "markdown",
   "id": "f240977c-c4aa-4529-a140-e724b75e2339",
   "metadata": {},
   "source": [
    "# Creating a spark session "
   ]
  },
  {
   "cell_type": "code",
   "execution_count": 2,
   "id": "9955f06a-ef92-44cc-8991-3f1716f5cdcd",
   "metadata": {},
   "outputs": [],
   "source": [
    "from pyspark.sql import SparkSession"
   ]
  },
  {
   "cell_type": "code",
   "execution_count": 3,
   "id": "434d159a-d379-4c33-9009-b756a30ce262",
   "metadata": {},
   "outputs": [],
   "source": [
    "spark = SparkSession.builder.appName(\"demo\").getOrCreate()"
   ]
  },
  {
   "cell_type": "code",
   "execution_count": 5,
   "id": "3614c42e-e6e0-4a51-a2bf-d3dbdcd7af70",
   "metadata": {},
   "outputs": [
    {
     "data": {
      "text/html": [
       "\n",
       "            <div>\n",
       "                <p><b>SparkSession - in-memory</b></p>\n",
       "                \n",
       "        <div>\n",
       "            <p><b>SparkContext</b></p>\n",
       "\n",
       "            <p><a href=\"http://ea2936af7614:4040\">Spark UI</a></p>\n",
       "\n",
       "            <dl>\n",
       "              <dt>Version</dt>\n",
       "                <dd><code>v3.5.0</code></dd>\n",
       "              <dt>Master</dt>\n",
       "                <dd><code>local[*]</code></dd>\n",
       "              <dt>AppName</dt>\n",
       "                <dd><code>demo</code></dd>\n",
       "            </dl>\n",
       "        </div>\n",
       "        \n",
       "            </div>\n",
       "        "
      ],
      "text/plain": [
       "<pyspark.sql.session.SparkSession at 0xffff76985f50>"
      ]
     },
     "execution_count": 5,
     "metadata": {},
     "output_type": "execute_result"
    }
   ],
   "source": [
    "spark"
   ]
  },
  {
   "cell_type": "markdown",
   "id": "331fdc36-4585-4840-8201-33d9161981c6",
   "metadata": {},
   "source": [
    "- As we are using the Spark in Docker the \"Spark UI\" in the above \"Output\" will not work.\n",
    "- We need to goto http://localhost:4041/stages/ As mentioned over the docker compose file"
   ]
  },
  {
   "cell_type": "code",
   "execution_count": null,
   "id": "bf10e971-ddfd-465c-bc79-14eefb195784",
   "metadata": {},
   "outputs": [],
   "source": []
  }
 ],
 "metadata": {
  "kernelspec": {
   "display_name": "Python 3 (ipykernel)",
   "language": "python",
   "name": "python3"
  },
  "language_info": {
   "codemirror_mode": {
    "name": "ipython",
    "version": 3
   },
   "file_extension": ".py",
   "mimetype": "text/x-python",
   "name": "python",
   "nbconvert_exporter": "python",
   "pygments_lexer": "ipython3",
   "version": "3.11.6"
  }
 },
 "nbformat": 4,
 "nbformat_minor": 5
}
